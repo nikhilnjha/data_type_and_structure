{
  "nbformat": 4,
  "nbformat_minor": 0,
  "metadata": {
    "colab": {
      "provenance": []
    },
    "kernelspec": {
      "name": "python3",
      "display_name": "Python 3"
    },
    "language_info": {
      "name": "python"
    }
  },
  "cells": [
    {
      "cell_type": "markdown",
      "source": [
        "# Theory"
      ],
      "metadata": {
        "id": "xx54v65j_Ig1"
      }
    },
    {
      "cell_type": "markdown",
      "source": [
        "1. What are data structures, and why are they important.\n",
        "  - **Data structures** are ways to organize and store data so that it can be accessed and modified efficiently.\n",
        "  - They are important because they help improve the performance of algorithms and allow for efficient data manipulation. Examples include arrays, lists, stacks, queues, trees, graphs, and hash tables.\n",
        "\n",
        "\n",
        "2. Explain the difference between mutable and immutable data types with examples\n",
        "  - **Mutable** data types can be changed after they are created. Example: lists and dictionaries in Python. You can add, remove, or change elements in them.\n",
        "  - **Immutable** data types cannot be modified once they are created. Example: strings and tuples in Python.\n",
        "\n",
        "\n",
        "3. What are the main differences between lists and tuples in Python\n",
        "  - **Lists** are mutable (can be changed after creation), can have elements added, removed, or modified. Lists are created using square brackets [ ].\n",
        "  - **Tuples** are immutable (cannot be changed after creation), and their size cannot be modified. Tuples are created using parentheses ( ).\n",
        "\n",
        "\n",
        "4.  Describe how dictionaries store data\n",
        "  - **Dictionaries** store data as key-value pairs, where each key is unique, and each key maps to a specific value. Internally, they use a hash table for efficient data retrieval.\n",
        "\n",
        "\n",
        "5. Why might you use a set instead of a list in Python\n",
        "  - A **set** is useful when you need to store unique values and don’t care about order. Sets automatically remove duplicate elements, which makes them efficient for membership tests (checking if an element is in the set).\n",
        "\n",
        "\n",
        "6. What is a string in Python, and how is it different from a list\n",
        "   - A **string** in Python is a sequence of characters enclosed in quotes, and it is **immutable** (cannot be changed after creation).\n",
        "   - A **list** is a collection of elements that can be of any data type, and it is **mutable** (can be changed).\n",
        "\n",
        "\n",
        "7. How do tuples ensure data integrity in Python\n",
        "  - **Tuples** ensure data integrity because they are **immutable**, meaning once a tuple is created, its contents cannot be modified. This helps ensure that the data cannot be accidentally changed.\n",
        "\n",
        "\n",
        "8. What is a hash table, and how does it relate to dictionaries in Python\n",
        "  - A **hash table** is a data structure that maps keys to values using a hash function, which ensures efficient searching, insertion, and deletion.\n",
        "  - **Dictionaries** in Python are implemented using hash tables, where keys are hashed, and the values are stored in the corresponding hash slots.\n",
        "\n",
        "\n",
        "9. Can lists contain different data types in Python\n",
        "  - **Lists** in Python can contain elements of different data types. For example, you can have integers, strings, and other lists inside one list.\n",
        "\n",
        "\n",
        "10. Explain why strings are immutable in Python\n",
        "  - **Strings** are immutable to ensure that their contents remain consistent and to optimize memory management. Since strings are commonly used in many places, making them immutable allows Python to efficiently manage memory and avoid unintended side effects from modifying strings.\n",
        "\n",
        "\n",
        "11. What advantages do dictionaries offer over lists for certain tasks\n",
        "  - **Strings** are immutable to ensure that their contents remain consistent and to optimize memory management. Since strings are commonly used in many places, making them immutable allows Python to efficiently manage memory and avoid unintended side effects from modifying strings.\n",
        "\n",
        "\n",
        "12. Describe a scenario where using a tuple would be preferable over a list\n",
        "  - A **tuple** would be preferable over a list when you want to ensure that the data is not modified, such as when storing a collection of values that should remain constant throughout the program (e.g., coordinates, RGB color values).\n",
        "\n",
        "\n",
        "13. How do sets handle duplicate values in Python\n",
        "  - **Sets** automatically eliminate duplicates, meaning that only unique elements are stored. If you try to add a duplicate element, it will not be added to the set.\n",
        "\n",
        "\n",
        "14. How does the “in” keyword work differently for lists and dictionaries\n",
        "  - For **lists**, the “in” keyword checks if an element is present in the list.\n",
        "  - For **dictionaries**, the “in” keyword checks if a **key** is present in the dictionary.\n",
        "\n",
        "\n",
        "15. Can you modify the elements of a tuple? Explain why or why not\n",
        "  - Elements in a **Tuple** cannot be modified because they are **immutable**. Once a tuple is created, its elements cannot be changed, added, or removed. This ensures data integrity and prevents accidental modifications.\n",
        "\n",
        "\n",
        "16. What is a nested dictionary, and give an example of its use case\n",
        "  - A **nested dictionary** is a dictionary where the values are themselves dictionaries.\n",
        "  - This is useful when you need to represent hierarchical or multi-level data.\n",
        "\n",
        "\n",
        "17. Describe the time complexity of accessing elements in a dictionary\n",
        "  - Accessing elements in a **dictionary** is generally **O(1)** (constant time) on average because of the hash table implementation, which allows for fast lookups by key.\n",
        "\n",
        "\n",
        "18. In what situations are lists preferred over dictionaries\n",
        "  - **Lists** are preferred when you need to store an ordered collection of items and the order of the elements matters. They are also suitable when you need to work with indexed data (e.g., iterating over elements in a sequence).\n",
        "\n",
        "\n",
        "19. Why are dictionaries considered unordered, and how does that affect data retrieval\n",
        "  - **Dictionaries** are considered unordered because they do not maintain the order of insertion. This affects data retrieval because, while you can quickly access data using a key, you cannot rely on the order in which items are stored.\n",
        "\n",
        "\n",
        "20. Explain the difference between a list and a dictionary in terms of data retrieval.\n",
        "  - **Lists** retrieve data by index, whereas **dictionaries** retrieve data by key. Lists are ordered collections, whereas dictionaries store key-value pairs and allow faster lookups by key."
      ],
      "metadata": {
        "id": "e-ImJaMA_Vpf"
      }
    },
    {
      "cell_type": "markdown",
      "source": [
        "# Practicals"
      ],
      "metadata": {
        "id": "F5RgDp_Ro1nO"
      }
    },
    {
      "cell_type": "markdown",
      "source": [
        "### 1. Write a code to create a string with your name and print it"
      ],
      "metadata": {
        "id": "UrYI6txBouL2"
      }
    },
    {
      "cell_type": "code",
      "execution_count": 2,
      "metadata": {
        "colab": {
          "base_uri": "https://localhost:8080/"
        },
        "id": "GADTn4AOoFYc",
        "outputId": "a2a03ce1-fd8d-4200-f252-9c5233f34fa5"
      },
      "outputs": [
        {
          "output_type": "stream",
          "name": "stdout",
          "text": [
            "My Name is Nikhil Jha\n"
          ]
        }
      ],
      "source": [
        "name = \"Nikhil Jha\"\n",
        "print(f'My Name is {name}')"
      ]
    },
    {
      "cell_type": "markdown",
      "source": [
        "### 2. Write a code to find the length of the string \"Hello World\""
      ],
      "metadata": {
        "id": "OQy8oisLpSVn"
      }
    },
    {
      "cell_type": "code",
      "source": [
        "s = \"Hello World\"\n",
        "l = len(s)\n",
        "print(f'Length of string {s} is {l}')"
      ],
      "metadata": {
        "colab": {
          "base_uri": "https://localhost:8080/"
        },
        "id": "k4E_jLA-pEpm",
        "outputId": "99a755d0-dc7e-444a-c1e5-073e4434d7b4"
      },
      "execution_count": 3,
      "outputs": [
        {
          "output_type": "stream",
          "name": "stdout",
          "text": [
            "Length of string Hello World is 11\n"
          ]
        }
      ]
    },
    {
      "cell_type": "markdown",
      "source": [
        "###  3. Write a code to slice the first 3 characters from the string \"Python Programming\""
      ],
      "metadata": {
        "id": "pSz1OprCpnM7"
      }
    },
    {
      "cell_type": "code",
      "source": [
        "s = \"Python Programming\"\n",
        "s[:3]"
      ],
      "metadata": {
        "colab": {
          "base_uri": "https://localhost:8080/",
          "height": 36
        },
        "id": "cqvdkggfpkm_",
        "outputId": "40e4fb95-a053-4567-84e0-d892edae1dde"
      },
      "execution_count": 4,
      "outputs": [
        {
          "output_type": "execute_result",
          "data": {
            "text/plain": [
              "'Pyt'"
            ],
            "application/vnd.google.colaboratory.intrinsic+json": {
              "type": "string"
            }
          },
          "metadata": {},
          "execution_count": 4
        }
      ]
    },
    {
      "cell_type": "markdown",
      "source": [
        "### 4. Write a code to convert the string \"hello\" to uppercase"
      ],
      "metadata": {
        "id": "_lYdYEsfqHj1"
      }
    },
    {
      "cell_type": "code",
      "source": [
        "s = \"hello\"\n",
        "s.upper()"
      ],
      "metadata": {
        "colab": {
          "base_uri": "https://localhost:8080/",
          "height": 36
        },
        "id": "8ZGliHtkp33w",
        "outputId": "8200722c-8358-43d6-8192-6e18188e9770"
      },
      "execution_count": 5,
      "outputs": [
        {
          "output_type": "execute_result",
          "data": {
            "text/plain": [
              "'HELLO'"
            ],
            "application/vnd.google.colaboratory.intrinsic+json": {
              "type": "string"
            }
          },
          "metadata": {},
          "execution_count": 5
        }
      ]
    },
    {
      "cell_type": "markdown",
      "source": [
        "### 5. Write a code to replace the word \"apple\" with \"orange\" in the string \"I like apple\""
      ],
      "metadata": {
        "id": "YsmuvYXgqdBc"
      }
    },
    {
      "cell_type": "code",
      "source": [
        "s = \"I like apple\"\n",
        "s.replace(\"apple\",\"orange\")"
      ],
      "metadata": {
        "colab": {
          "base_uri": "https://localhost:8080/",
          "height": 36
        },
        "id": "p_nyxWhSqVV9",
        "outputId": "5cf2832d-d61d-46e5-f6df-9726321b611e"
      },
      "execution_count": 8,
      "outputs": [
        {
          "output_type": "execute_result",
          "data": {
            "text/plain": [
              "'I like orange'"
            ],
            "application/vnd.google.colaboratory.intrinsic+json": {
              "type": "string"
            }
          },
          "metadata": {},
          "execution_count": 8
        }
      ]
    },
    {
      "cell_type": "markdown",
      "source": [
        "### 6. Write a code to create a list with numbers 1 to 5 and print it"
      ],
      "metadata": {
        "id": "DIOW8Ut7qsWx"
      }
    },
    {
      "cell_type": "code",
      "source": [
        "n = range(1,6)\n",
        "l = list(n)\n",
        "print(l)"
      ],
      "metadata": {
        "colab": {
          "base_uri": "https://localhost:8080/"
        },
        "id": "scU3S_H8qlAU",
        "outputId": "30d3ad10-3403-4921-c944-154ec7e4e75c"
      },
      "execution_count": 10,
      "outputs": [
        {
          "output_type": "stream",
          "name": "stdout",
          "text": [
            "[1, 2, 3, 4, 5]\n"
          ]
        }
      ]
    },
    {
      "cell_type": "markdown",
      "source": [
        "### 7. Write a code to append the number 10 to the list [1, 2, 3, 4]"
      ],
      "metadata": {
        "id": "hQeh5ySmrFpj"
      }
    },
    {
      "cell_type": "code",
      "source": [
        "l = [1,2,3,4]\n",
        "l.append(10)\n",
        "print(l)"
      ],
      "metadata": {
        "colab": {
          "base_uri": "https://localhost:8080/"
        },
        "id": "_zbuBmEpq_X4",
        "outputId": "d4c62616-ca83-4154-b36e-909c41a29d66"
      },
      "execution_count": 12,
      "outputs": [
        {
          "output_type": "stream",
          "name": "stdout",
          "text": [
            "[1, 2, 3, 4, 10]\n"
          ]
        }
      ]
    },
    {
      "cell_type": "markdown",
      "source": [
        "### 8. Write a code to remove the number 3 from the list [1, 2, 3, 4, 5]"
      ],
      "metadata": {
        "id": "a2OpTbY2rYN0"
      }
    },
    {
      "cell_type": "code",
      "source": [
        "l = [1,2,3,4,5]\n",
        "l.remove(3)\n",
        "print(l)"
      ],
      "metadata": {
        "colab": {
          "base_uri": "https://localhost:8080/"
        },
        "id": "Pw9UV4odrRSc",
        "outputId": "cf9fb2ef-d8f7-4707-ba83-9eec8f601716"
      },
      "execution_count": 16,
      "outputs": [
        {
          "output_type": "stream",
          "name": "stdout",
          "text": [
            "[1, 2, 4, 5]\n"
          ]
        }
      ]
    },
    {
      "cell_type": "markdown",
      "source": [
        "### 9. Write a code to access the second element in the list ['a', 'b', 'c', 'd']"
      ],
      "metadata": {
        "id": "Vbc5qIoJrxsE"
      }
    },
    {
      "cell_type": "code",
      "source": [
        "l = ['a','b','c','d']\n",
        "l[1]"
      ],
      "metadata": {
        "colab": {
          "base_uri": "https://localhost:8080/",
          "height": 36
        },
        "id": "_0plPiNOrgA0",
        "outputId": "9a0906b4-bb8f-44d5-c508-d5e86ebe9bbf"
      },
      "execution_count": 17,
      "outputs": [
        {
          "output_type": "execute_result",
          "data": {
            "text/plain": [
              "'b'"
            ],
            "application/vnd.google.colaboratory.intrinsic+json": {
              "type": "string"
            }
          },
          "metadata": {},
          "execution_count": 17
        }
      ]
    },
    {
      "cell_type": "markdown",
      "source": [
        "### 10. Write a code to reverse the list [10, 20, 30, 40, 50]"
      ],
      "metadata": {
        "id": "hIl5tj3rsO1m"
      }
    },
    {
      "cell_type": "code",
      "source": [
        "l = [10,20,30,40,50]\n",
        "l[::-1]"
      ],
      "metadata": {
        "colab": {
          "base_uri": "https://localhost:8080/"
        },
        "id": "YOpFYGxNr6bx",
        "outputId": "8ce2bab4-b74c-4239-d1fc-674e5c3dccf7"
      },
      "execution_count": 20,
      "outputs": [
        {
          "output_type": "execute_result",
          "data": {
            "text/plain": [
              "[50, 40, 30, 20, 10]"
            ]
          },
          "metadata": {},
          "execution_count": 20
        }
      ]
    },
    {
      "cell_type": "markdown",
      "source": [
        "### 11. Write a code to create a tuple with the elements 100, 200, 300 and print it"
      ],
      "metadata": {
        "id": "fstoifVdsyly"
      }
    },
    {
      "cell_type": "code",
      "source": [
        "t = (100,200,300)\n",
        "print(t)"
      ],
      "metadata": {
        "colab": {
          "base_uri": "https://localhost:8080/"
        },
        "id": "yxPg-hrEsbnr",
        "outputId": "12c5d3d4-e6eb-4ab2-e75c-4182a0a78c35"
      },
      "execution_count": 21,
      "outputs": [
        {
          "output_type": "stream",
          "name": "stdout",
          "text": [
            "(100, 200, 300)\n"
          ]
        }
      ]
    },
    {
      "cell_type": "markdown",
      "source": [
        "###  12. Write a code to access the second-to-last element of the tuple ('red', 'green', 'blue', 'yellow')"
      ],
      "metadata": {
        "id": "KnY0VhaFs9j7"
      }
    },
    {
      "cell_type": "code",
      "source": [
        "t = ('red','green','blue','yellow')\n",
        "t[-2]"
      ],
      "metadata": {
        "colab": {
          "base_uri": "https://localhost:8080/",
          "height": 36
        },
        "id": "01Y2aXYos8Y2",
        "outputId": "2cab9b1e-2d27-4203-8357-a001bd0d7e7b"
      },
      "execution_count": 22,
      "outputs": [
        {
          "output_type": "execute_result",
          "data": {
            "text/plain": [
              "'blue'"
            ],
            "application/vnd.google.colaboratory.intrinsic+json": {
              "type": "string"
            }
          },
          "metadata": {},
          "execution_count": 22
        }
      ]
    },
    {
      "cell_type": "markdown",
      "source": [
        "### 13. Write a code to find the minimum number in the tuple (10, 20, 5, 15)"
      ],
      "metadata": {
        "id": "knTlZJN_tIIC"
      }
    },
    {
      "cell_type": "code",
      "source": [
        "t = (10,20,5,15)\n",
        "min(t)"
      ],
      "metadata": {
        "colab": {
          "base_uri": "https://localhost:8080/"
        },
        "id": "uejr8L14tFto",
        "outputId": "ff11a1e0-ee68-4e2e-c324-c8d45a5226c8"
      },
      "execution_count": 23,
      "outputs": [
        {
          "output_type": "execute_result",
          "data": {
            "text/plain": [
              "5"
            ]
          },
          "metadata": {},
          "execution_count": 23
        }
      ]
    },
    {
      "cell_type": "markdown",
      "source": [
        "### 14. Write a code to find the index of the element \"cat\" in the tuple ('dog', 'cat', 'rabbit')"
      ],
      "metadata": {
        "id": "8qPH5LV7tckL"
      }
    },
    {
      "cell_type": "code",
      "source": [
        "t = ('dog','cat','rabbit')\n",
        "t.index('cat')"
      ],
      "metadata": {
        "colab": {
          "base_uri": "https://localhost:8080/"
        },
        "id": "lTrjLsD4tU65",
        "outputId": "4cc51603-518f-4018-d8ab-ea765d61aab8"
      },
      "execution_count": 24,
      "outputs": [
        {
          "output_type": "execute_result",
          "data": {
            "text/plain": [
              "1"
            ]
          },
          "metadata": {},
          "execution_count": 24
        }
      ]
    },
    {
      "cell_type": "markdown",
      "source": [
        "### 15. Write a code to create a tuple containing three different fruits and check if \"kiwi\" is in it."
      ],
      "metadata": {
        "id": "K3jd_CtZtolf"
      }
    },
    {
      "cell_type": "code",
      "source": [
        "t = ('mango','papaya','kiwi')\n",
        "\"kiwi\" in t"
      ],
      "metadata": {
        "colab": {
          "base_uri": "https://localhost:8080/"
        },
        "id": "zMKZvJA0tjnJ",
        "outputId": "31478da3-178d-49ed-a4a1-dfe8661cde81"
      },
      "execution_count": 27,
      "outputs": [
        {
          "output_type": "execute_result",
          "data": {
            "text/plain": [
              "True"
            ]
          },
          "metadata": {},
          "execution_count": 27
        }
      ]
    },
    {
      "cell_type": "markdown",
      "source": [
        "###  16. Write a code to create a set with the elements 'a', 'b', 'c' and print it."
      ],
      "metadata": {
        "id": "yXbgXXcmuJhF"
      }
    },
    {
      "cell_type": "code",
      "source": [
        "k = {'a','b','c'}\n",
        "print(k)"
      ],
      "metadata": {
        "colab": {
          "base_uri": "https://localhost:8080/"
        },
        "id": "6oe85RHBt3-L",
        "outputId": "a9a50bee-9617-48a8-cfe7-eb12e7f702ff"
      },
      "execution_count": 30,
      "outputs": [
        {
          "output_type": "stream",
          "name": "stdout",
          "text": [
            "{'b', 'a', 'c'}\n"
          ]
        }
      ]
    },
    {
      "cell_type": "markdown",
      "source": [
        "### 17. Write a code to clear all elements from the set {1, 2, 3, 4, 5}"
      ],
      "metadata": {
        "id": "3oVG_1vduavt"
      }
    },
    {
      "cell_type": "code",
      "source": [
        "k  = {1,2,3,4,5}\n",
        "k.clear()\n",
        "print(k)"
      ],
      "metadata": {
        "colab": {
          "base_uri": "https://localhost:8080/"
        },
        "id": "T06LRRXFuURl",
        "outputId": "b2cba1c6-57e8-4ae1-af09-8e3b078b1457"
      },
      "execution_count": 31,
      "outputs": [
        {
          "output_type": "stream",
          "name": "stdout",
          "text": [
            "set()\n"
          ]
        }
      ]
    },
    {
      "cell_type": "markdown",
      "source": [
        "###  18. Write a code to remove the element 4 from the set {1, 2, 3, 4}"
      ],
      "metadata": {
        "id": "OXKetZGMuhus"
      }
    },
    {
      "cell_type": "code",
      "source": [
        "k = {1,2,3,4}\n",
        "k.remove(4)\n",
        "print(k)"
      ],
      "metadata": {
        "colab": {
          "base_uri": "https://localhost:8080/"
        },
        "id": "AhaJdxLdugdb",
        "outputId": "d61816f7-03fd-4dd2-96d3-e96d9b6d43ce"
      },
      "execution_count": 32,
      "outputs": [
        {
          "output_type": "stream",
          "name": "stdout",
          "text": [
            "{1, 2, 3}\n"
          ]
        }
      ]
    },
    {
      "cell_type": "markdown",
      "source": [
        "### 19. Write a code to find the union of two sets {1, 2, 3} and {3, 4, 5}"
      ],
      "metadata": {
        "id": "OoO_MZ8Sutuf"
      }
    },
    {
      "cell_type": "code",
      "source": [
        "k1 = {1,2,3}\n",
        "k2 = {3,4,5}\n",
        "k1.union(k2)"
      ],
      "metadata": {
        "colab": {
          "base_uri": "https://localhost:8080/"
        },
        "id": "v5dIb1_dup_3",
        "outputId": "b3267fa6-e688-490e-9dc2-633dcfc25346"
      },
      "execution_count": 33,
      "outputs": [
        {
          "output_type": "execute_result",
          "data": {
            "text/plain": [
              "{1, 2, 3, 4, 5}"
            ]
          },
          "metadata": {},
          "execution_count": 33
        }
      ]
    },
    {
      "cell_type": "markdown",
      "source": [
        "###  20. Write a code to find the intersection of two sets {1, 2, 3} and {2, 3, 4}"
      ],
      "metadata": {
        "id": "7zmq33vGvFhV"
      }
    },
    {
      "cell_type": "code",
      "source": [
        "k1 = {1,2,3}\n",
        "k2 = {2,3,4}\n",
        "k1.intersection(k2)"
      ],
      "metadata": {
        "colab": {
          "base_uri": "https://localhost:8080/"
        },
        "id": "Sa7H5lFmu1Tn",
        "outputId": "89e6d3a0-328f-4a37-c606-07850536aa4d"
      },
      "execution_count": 34,
      "outputs": [
        {
          "output_type": "execute_result",
          "data": {
            "text/plain": [
              "{2, 3}"
            ]
          },
          "metadata": {},
          "execution_count": 34
        }
      ]
    },
    {
      "cell_type": "markdown",
      "source": [
        "### 21. Write a code to create a dictionary with the keys \"name\", \"age\", and \"city\", and print it"
      ],
      "metadata": {
        "id": "LOmq8EhxvSAK"
      }
    },
    {
      "cell_type": "code",
      "source": [
        "d = {\"name\":\"Nikhil\",\"age\":40,\"city\":\"Bengaluru\"}\n",
        "print(d)"
      ],
      "metadata": {
        "colab": {
          "base_uri": "https://localhost:8080/"
        },
        "id": "fXFfgzMuvLyP",
        "outputId": "080101ab-705a-4ef1-9e27-33f58f0a3f81"
      },
      "execution_count": 36,
      "outputs": [
        {
          "output_type": "stream",
          "name": "stdout",
          "text": [
            "{'name': 'Nikhil', 'age': 40, 'city': 'Bengaluru'}\n"
          ]
        }
      ]
    },
    {
      "cell_type": "markdown",
      "source": [
        "###  22. Write a code to add a new key-value pair \"country\": \"USA\" to the dictionary {'name': 'John', 'age': 25}"
      ],
      "metadata": {
        "id": "IHAAEEEdvc5H"
      }
    },
    {
      "cell_type": "code",
      "source": [
        "d = {'name': 'John', 'age': 25}\n",
        "d['country'] = \"USA\"\n",
        "print(d)"
      ],
      "metadata": {
        "colab": {
          "base_uri": "https://localhost:8080/"
        },
        "id": "IKftlgrqvZ_A",
        "outputId": "833c6eaf-d318-455e-8210-8ded5dcf497d"
      },
      "execution_count": 37,
      "outputs": [
        {
          "output_type": "stream",
          "name": "stdout",
          "text": [
            "{'name': 'John', 'age': 25, 'country': 'USA'}\n"
          ]
        }
      ]
    },
    {
      "cell_type": "markdown",
      "source": [
        "### 23. Write a code to access the value associated with the key \"name\" in the dictionary {'name': 'Alice', 'age': 30}"
      ],
      "metadata": {
        "id": "s_AFIaUavqQ8"
      }
    },
    {
      "cell_type": "code",
      "source": [
        "d = {'name': 'Alice', 'age': 30}\n",
        "d['name']"
      ],
      "metadata": {
        "colab": {
          "base_uri": "https://localhost:8080/",
          "height": 36
        },
        "id": "F859jlS6vk_d",
        "outputId": "f44c6963-69aa-43ba-e167-5251c5aff802"
      },
      "execution_count": 38,
      "outputs": [
        {
          "output_type": "execute_result",
          "data": {
            "text/plain": [
              "'Alice'"
            ],
            "application/vnd.google.colaboratory.intrinsic+json": {
              "type": "string"
            }
          },
          "metadata": {},
          "execution_count": 38
        }
      ]
    },
    {
      "cell_type": "markdown",
      "source": [
        "### 24. Write a code to remove the key \"age\" from the dictionary {'name': 'Bob', 'age': 22, 'city': 'New York'}"
      ],
      "metadata": {
        "id": "7hcvZ4LqvzEE"
      }
    },
    {
      "cell_type": "code",
      "source": [
        "d = {'name': 'Bob', 'age': 22, 'city': 'New York'}\n",
        "d.pop('age')\n",
        "print(d)"
      ],
      "metadata": {
        "colab": {
          "base_uri": "https://localhost:8080/"
        },
        "id": "vsf8MX-bvuhb",
        "outputId": "4cc7c13c-5900-4a09-f78c-44a71c2e8972"
      },
      "execution_count": 40,
      "outputs": [
        {
          "output_type": "stream",
          "name": "stdout",
          "text": [
            "{'name': 'Bob', 'city': 'New York'}\n"
          ]
        }
      ]
    },
    {
      "cell_type": "markdown",
      "source": [
        "### 25. Write a code to check if the key \"city\" exists in the dictionary {'name': 'Alice', 'city': 'Paris'}"
      ],
      "metadata": {
        "id": "C3qYDXAEwEYs"
      }
    },
    {
      "cell_type": "code",
      "source": [
        "d = {'name':'ALice','city':'Paris'}\n",
        "'city' in d"
      ],
      "metadata": {
        "colab": {
          "base_uri": "https://localhost:8080/"
        },
        "id": "uiR7gZjmv8Fk",
        "outputId": "bd8ce486-c424-4c83-f797-200e560df388"
      },
      "execution_count": 51,
      "outputs": [
        {
          "output_type": "execute_result",
          "data": {
            "text/plain": [
              "True"
            ]
          },
          "metadata": {},
          "execution_count": 51
        }
      ]
    },
    {
      "cell_type": "markdown",
      "source": [
        "### 26. Write a code to create a list, a tuple, and a dictionary, and print them all"
      ],
      "metadata": {
        "id": "2YFfhtZ_xRjV"
      }
    },
    {
      "cell_type": "code",
      "source": [
        "l = [1,2,3]\n",
        "t = (100,300,200)\n",
        "d = {\"name\":\"Nikhil\",\"age\":40}\n",
        "print(l)\n",
        "print(t)\n",
        "print(d)\n",
        "\n",
        "#Also possible through print(l,t,d)"
      ],
      "metadata": {
        "colab": {
          "base_uri": "https://localhost:8080/"
        },
        "id": "cmQSHH61wLxF",
        "outputId": "158dcd84-e33e-420d-ef20-91f10ac01869"
      },
      "execution_count": 62,
      "outputs": [
        {
          "output_type": "stream",
          "name": "stdout",
          "text": [
            "[1, 2, 3]\n",
            "(100, 300, 200)\n",
            "{'name': 'Nikhil', 'age': 40}\n"
          ]
        }
      ]
    },
    {
      "cell_type": "markdown",
      "source": [
        "### 27. Write a code to create a list of 5 random numbers between 1 and 100, sort it in ascending order, and print the result.(replaced)"
      ],
      "metadata": {
        "id": "rkc2e3n6x-pe"
      }
    },
    {
      "cell_type": "code",
      "source": [
        "import random\n",
        "n = range(1,101)\n",
        "l = random.sample(n,5)\n",
        "l.sort()\n",
        "print(l)"
      ],
      "metadata": {
        "colab": {
          "base_uri": "https://localhost:8080/"
        },
        "id": "1-NKHomOxdQY",
        "outputId": "bfff7939-fa90-4327-caea-3eecf35a910e"
      },
      "execution_count": 74,
      "outputs": [
        {
          "output_type": "stream",
          "name": "stdout",
          "text": [
            "[38, 55, 97, 98, 100]\n"
          ]
        }
      ]
    },
    {
      "cell_type": "markdown",
      "source": [
        "### 28. Write a code to create a list with strings and print the element at the third index"
      ],
      "metadata": {
        "id": "eLCWhFix0UP5"
      }
    },
    {
      "cell_type": "code",
      "source": [
        "l = ['Tom','Jerry','light','dark','water','ice']\n",
        "print(l[3])"
      ],
      "metadata": {
        "colab": {
          "base_uri": "https://localhost:8080/"
        },
        "id": "xB8NDCPzyd5O",
        "outputId": "ae97d5f0-85f5-4b3b-cade-73347c2db364"
      },
      "execution_count": 79,
      "outputs": [
        {
          "output_type": "stream",
          "name": "stdout",
          "text": [
            "dark\n"
          ]
        }
      ]
    },
    {
      "cell_type": "markdown",
      "source": [
        "###  29. Write a code to combine two dictionaries into one and print the result."
      ],
      "metadata": {
        "id": "vB2gsyzt0wj-"
      }
    },
    {
      "cell_type": "code",
      "source": [
        "d1 = {\"name\":\"Nikhil\",\"age\":40}\n",
        "d2 = {\"city\":\"Bengaluru\",\"country\":\"India\"}\n",
        "d1.update(d2)\n",
        "print(d1)"
      ],
      "metadata": {
        "colab": {
          "base_uri": "https://localhost:8080/"
        },
        "id": "uhaiq_eN0pad",
        "outputId": "6ccfcfe4-3656-4571-dee3-d4ce80ca92b1"
      },
      "execution_count": 83,
      "outputs": [
        {
          "output_type": "stream",
          "name": "stdout",
          "text": [
            "{'name': 'Nikhil', 'age': 40, 'city': 'Bengaluru', 'country': 'India'}\n"
          ]
        }
      ]
    },
    {
      "cell_type": "markdown",
      "source": [
        "### 30. Write a code to convert a list of strings into a set."
      ],
      "metadata": {
        "id": "Ty-IPxUQ1UXp"
      }
    },
    {
      "cell_type": "code",
      "source": [
        "l = ['Tom','Jerry','light','dark','water','ice']\n",
        "set(l)"
      ],
      "metadata": {
        "colab": {
          "base_uri": "https://localhost:8080/"
        },
        "id": "BWf4YA4c1A0c",
        "outputId": "d6794db6-af81-4776-f188-f15cf5e57a73"
      },
      "execution_count": 86,
      "outputs": [
        {
          "output_type": "execute_result",
          "data": {
            "text/plain": [
              "{'Jerry', 'Tom', 'dark', 'ice', 'light', 'water'}"
            ]
          },
          "metadata": {},
          "execution_count": 86
        }
      ]
    },
    {
      "cell_type": "code",
      "source": [],
      "metadata": {
        "id": "vnk5DMGq1cE8"
      },
      "execution_count": null,
      "outputs": []
    }
  ]
}